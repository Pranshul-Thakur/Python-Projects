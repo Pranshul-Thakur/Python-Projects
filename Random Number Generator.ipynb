{
 "cells": [
  {
   "cell_type": "code",
   "execution_count": null,
   "id": "e24fa6a9",
   "metadata": {},
   "outputs": [],
   "source": [
    "import random\n",
    "\n",
    "# Function to generate a random number between 'start' and 'end'\n",
    "def generate_random_number(start, end):\n",
    "    return random.randint(start, end)\n",
    "\n",
    "# Function to get the user's guess, handling invalid inputs with a try-except block\n",
    "def get_guess():\n",
    "    while True:\n",
    "        try:\n",
    "            guess = int(input(\"Guess the number: \"))  # Prompt the user for input\n",
    "            return guess  # Return the valid guess as an integer\n",
    "        except ValueError:\n",
    "            print(\"Invalid input. Please enter a number.\")  # Handle non-integer inputs\n",
    "\n",
    "# Function to check if the guess matches the answer\n",
    "def check_guess(guess, answer):\n",
    "    if guess == answer:\n",
    "        return True  # Return True if the guess is correct\n",
    "    else:\n",
    "        return False  # Return False if the guess is incorrect\n",
    "\n",
    "# Function to provide a hint based on the user's guess\n",
    "def give_hint(guess, answer):\n",
    "    if guess < answer:\n",
    "        print(\"The number is higher than your guess.\")  # Provide a hint if the guess is too low\n",
    "    else:\n",
    "        print(\"The number is lower than your guess.\")  # Provide a hint if the guess is too high\n",
    "\n",
    "# Function to play the guessing game\n",
    "def play_game(start, end):\n",
    "    answer = generate_random_number(start, end)  # Generate a random answer\n",
    "    score = 100  # Initialize the player's score\n",
    "\n",
    "    while True:\n",
    "        guess = get_guess()  # Get the user's guess\n",
    "        if check_guess(guess, answer):\n",
    "            print(\"Congratulations! You guessed the number.\")  # Print a win message\n",
    "            print(\"Your final score is:\", score)  # Display the final score\n",
    "            break  # Exit the game loop if the guess is correct\n",
    "        else:\n",
    "            give_hint(guess, answer)  # Provide a hint based on the guess\n",
    "            score -= 10  # Deduct 10 points from the score for an incorrect guess\n",
    "\n",
    "# Example usage: play the game with a range of 1 to 100\n",
    "play_game(1, 100)\n"
   ]
  }
 ],
 "metadata": {
  "kernelspec": {
   "display_name": "Python 3 (ipykernel)",
   "language": "python",
   "name": "python3"
  },
  "language_info": {
   "codemirror_mode": {
    "name": "ipython",
    "version": 3
   },
   "file_extension": ".py",
   "mimetype": "text/x-python",
   "name": "python",
   "nbconvert_exporter": "python",
   "pygments_lexer": "ipython3",
   "version": "3.11.4"
  }
 },
 "nbformat": 4,
 "nbformat_minor": 5
}
