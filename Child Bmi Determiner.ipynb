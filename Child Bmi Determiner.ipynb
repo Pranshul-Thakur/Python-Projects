{
 "cells": [
  {
   "cell_type": "code",
   "execution_count": 4,
   "id": "a0027e5d",
   "metadata": {},
   "outputs": [],
   "source": [
    "def bmiResult(childName,bmi):\n",
    "    if bmi<16:                        #if bmi<16-Severely Underweight\n",
    "        print(\"BMI of {0} is {1} and he (she) is Severely Underweight.\".format(childName,bmi))\n",
    "    elif bmi>=16 and bmi<18.5:        #if bmi>=16 and bmi<18.5- Underweight\n",
    "        print(\"BMI of {0} is {1} and he (she) is Underweight.\".format(childName,bmi))\n",
    "    elif bmi>=18.5 and bmi<25:        #if bmi>=18.5 and bmi<25-Healthy\n",
    "        print(\"BMI of {0} is {1} and he (she) is Healthy.\".format(childName,bmi))\n",
    "    elif bmi>=25 and bmi<30:          #if bmi>=25 and bmi<30-Overweight\n",
    "        print(\"BMI of {0} is {1} and he (she) is Overweight.\".format(childName,bmi))\n",
    "    elif bmi>=30:                     #if bmi>=30-Obese\n",
    "        print(\"BMI of {0} is {1} and he (she) is Obese.\".format(childName,bmi))\n",
    "        \n",
    "         #function bmiresult takes the name and bmi as inputs\n",
    "#and then prints out bmi catogery based on the predefined ranges --- the catogeries are underweight , overweight etc\n",
    "\n",
    "#if condition of the previous line is true then this line prints a formatted string using format() method. it filled in the placeholder {0} and {1} with the value of childname and bmi , respectively\n",
    "\n",
    "#so there is a else somewhere in between in the second half whose purpose is to add the fraction of calories \n",
    "#and return returns the total calorie\n",
    "\n",
    "                    \n",
    "                    \n",
    "def caloriescalculator(calories):\n",
    "    caloriecount = {\"milk\": 100, \"vegetable\": 85, \"meat\": 143, \"lentils\": 113, \"egg\": 153, \"rice\": 130}\n",
    "    totalcalories = 0 # Initialize a variable to store the total calculated calories\n",
    "    \n",
    "    for key, value in calories.items(): # Iterate through the items in the 'calories' dictionary\n",
    "        calorie = value\n",
    "        \n",
    "        while calorie != 0:  # Start a loop while there are still calories to calculate for this food item\n",
    "            if calorie - 100 >= 0:  # If there are at least 100 calories left to calculate\n",
    "                calorie -= 100  # Subtract 100 calories from the remaining calories\n",
    "                totalcalories += caloriecount[key]  # Add the predefined calorie count for the food item to the total\n",
    "            else:  # If there are less than 100 calories left to calculate\n",
    "                fraction = calorie / 100  # Calculate the fraction of a 100-calorie portion\n",
    "                totalcalories += caloriecount[key] * fraction  # Add the appropriate fraction of predefined calories to the total\n",
    "                calorie = int(calorie - (caloriecount[key] * fraction))  # Subtract the calculated calories from the remaining calories\n",
    "                break  # Exit the loop\n",
    "                \n",
    "    return totalcalories  # Return the final total calculated calories"
   ]
  },
  {
   "cell_type": "code",
   "execution_count": null,
   "id": "cc72344c",
   "metadata": {},
   "outputs": [],
   "source": []
  },
  {
   "cell_type": "code",
   "execution_count": null,
   "id": "5b3207c9",
   "metadata": {},
   "outputs": [],
   "source": []
  }
 ],
 "metadata": {
  "kernelspec": {
   "display_name": "Python 3 (ipykernel)",
   "language": "python",
   "name": "python3"
  },
  "language_info": {
   "codemirror_mode": {
    "name": "ipython",
    "version": 3
   },
   "file_extension": ".py",
   "mimetype": "text/x-python",
   "name": "python",
   "nbconvert_exporter": "python",
   "pygments_lexer": "ipython3",
   "version": "3.11.4"
  }
 },
 "nbformat": 4,
 "nbformat_minor": 5
}
