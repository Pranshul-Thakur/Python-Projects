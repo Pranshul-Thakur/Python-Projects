{
 "cells": [
  {
   "cell_type": "code",
   "execution_count": null,
   "id": "5418f02f",
   "metadata": {},
   "outputs": [],
   "source": [
    "# Import the random module (although it's not used in this version of the code)\n",
    "import random\n",
    "\n",
    "# Define the binary_search function that takes a sorted array 'arr' and a target value 'x' as arguments\n",
    "def binary_search(arr, x):\n",
    "    # Initialize the start and end indices for the search range\n",
    "    start = 0\n",
    "    end = len(arr) - 1\n",
    "\n",
    "    # Perform binary search while the start index is less than or equal to the end index\n",
    "    while start <= end:\n",
    "        # Calculate the middle index of the current search range\n",
    "        mid = (start + end) // 2\n",
    "        \n",
    "        # If the middle element matches the target value, return the index where it's found\n",
    "        if arr[mid] == x:\n",
    "            return mid\n",
    "        \n",
    "        # If the middle element is smaller than the target, narrow the search to the right half\n",
    "        elif arr[mid] < x:\n",
    "            start = mid + 1\n",
    "        \n",
    "        # If the middle element is larger than the target, narrow the search to the left half\n",
    "        else:\n",
    "            end = mid - 1\n",
    "    \n",
    "    # If the loop completes without finding the target, return -1 to indicate it's not in the array\n",
    "    return -1\n",
    "\n",
    "# Create a sorted list 'arr' containing even numbers between 0 and 100 (inclusive), with a difference of 2\n",
    "arr = [i * 2 for i in range(0, 51)]\n",
    "\n",
    "# Prompt the user to input a number within the specified range\n",
    "x = int(input(\"Enter a number between 0 to 100: \"))\n",
    "\n",
    "# Call the binary_search function with the input number and the array as arguments\n",
    "result = binary_search(arr, x)\n",
    "\n",
    "# Check if the result is not -1, indicating that the number was found in the array\n",
    "if result != -1:\n",
    "    # Print the index where the number is located in the list\n",
    "    print(\"The number is in the list at index:\", result)\n",
    "else:\n",
    "    # Print a message indicating that the number is not in the list\n",
    "    print(\"The number is not in the list.\")\n"
   ]
  }
 ],
 "metadata": {
  "kernelspec": {
   "display_name": "Python 3 (ipykernel)",
   "language": "python",
   "name": "python3"
  },
  "language_info": {
   "codemirror_mode": {
    "name": "ipython",
    "version": 3
   },
   "file_extension": ".py",
   "mimetype": "text/x-python",
   "name": "python",
   "nbconvert_exporter": "python",
   "pygments_lexer": "ipython3",
   "version": "3.11.4"
  }
 },
 "nbformat": 4,
 "nbformat_minor": 5
}
